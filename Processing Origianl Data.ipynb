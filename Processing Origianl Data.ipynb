{
 "cells": [
  {
   "cell_type": "code",
   "execution_count": 1,
   "id": "a937a0c0",
   "metadata": {},
   "outputs": [],
   "source": [
    "from astropy.table import Table, join, vstack\n",
    "import astropy.units as asu\n",
    "import numpy as np"
   ]
  },
  {
   "cell_type": "code",
   "execution_count": 2,
   "id": "82d57e90-2c02-4cbf-8308-08fdadc49293",
   "metadata": {},
   "outputs": [],
   "source": [
    "import re"
   ]
  },
  {
   "cell_type": "code",
   "execution_count": 2,
   "id": "b9814702",
   "metadata": {},
   "outputs": [],
   "source": [
    "ref = 'Osmond_2004'"
   ]
  },
  {
   "cell_type": "code",
   "execution_count": 3,
   "id": "299c6949",
   "metadata": {},
   "outputs": [],
   "source": [
    "temp = Table.read('Lx/{}/tab_4.tex'.format(ref))"
   ]
  },
  {
   "cell_type": "code",
   "execution_count": 4,
   "id": "2b6e1611",
   "metadata": {},
   "outputs": [],
   "source": [
    "temp = temp[temp['\\TX'] != 'n/a']"
   ]
  },
  {
   "cell_type": "code",
   "execution_count": 5,
   "id": "9e450d5e",
   "metadata": {},
   "outputs": [],
   "source": [
    "good = temp['Group', '\\TX', '\\Z', 'log \\LX', 'log \\LXrfh']"
   ]
  },
  {
   "cell_type": "code",
   "execution_count": 6,
   "id": "61f6b614",
   "metadata": {},
   "outputs": [],
   "source": [
    "good.rename_columns(['\\TX', '\\Z', 'log \\LX', 'log \\LXrfh'], ['Tx', 'Z', 'LogLxcut', 'LogLx500'])"
   ]
  },
  {
   "cell_type": "code",
   "execution_count": 7,
   "id": "31c7f1eb-07e4-4b39-a9e8-d985dd712c96",
   "metadata": {},
   "outputs": [],
   "source": [
    "# units = Table(good[0]).copy()\n",
    "good.remove_row(0)"
   ]
  },
  {
   "cell_type": "code",
   "execution_count": 8,
   "id": "58353a0e",
   "metadata": {},
   "outputs": [],
   "source": [
    "res = {key: [] for key in ['Tx', 'Z', 'LogLxcut', 'LogLx500']}\n",
    "for key in ['Tx', 'Z', 'LogLxcut', 'LogLx500']:\n",
    "    res[key + 'err'] = []\n",
    "res['Group'] = []\n",
    "for i in range(len(good)):\n",
    "    res['Group'].append(good['Group'][i])\n",
    "    for key in ['Tx', 'Z', 'LogLxcut', 'LogLx500']:\n",
    "        valstr = good[key][i].split()\n",
    "        res[key].append(eval(valstr[0]))\n",
    "        res[key + 'err'].append(eval(valstr[-1]))\n",
    "res = Table(res)\n",
    "\n",
    "for key in ['LogLxcut', 'LogLx500']:\n",
    "    for app in ['', 'err']:\n",
    "        res[key + app].unit = asu.erg/asu.s\n",
    "for key in ['Tx']:\n",
    "    for app in ['', 'err']:\n",
    "        res[key + app].unit = asu.keV\n",
    "for key in ['Z']:\n",
    "    for app in ['', 'err']:\n",
    "        res[key + app].unit = 'Zsun'"
   ]
  },
  {
   "cell_type": "code",
   "execution_count": 9,
   "id": "5aae18f0",
   "metadata": {},
   "outputs": [],
   "source": [
    "res.write('Lx/Data/{}.ecsv'.format(ref))"
   ]
  },
  {
   "cell_type": "code",
   "execution_count": null,
   "id": "0fbcb010",
   "metadata": {},
   "outputs": [],
   "source": []
  },
  {
   "cell_type": "code",
   "execution_count": 4,
   "id": "1e064f65",
   "metadata": {},
   "outputs": [],
   "source": [
    "ref = 'Pratt_2009'"
   ]
  },
  {
   "cell_type": "code",
   "execution_count": 5,
   "id": "6324c52c-5b98-4bb0-b619-6b44bc9d42b4",
   "metadata": {},
   "outputs": [],
   "source": [
    "def extract_errs(instr):\n",
    "    main = instr.replace('$', '')\n",
    "    ovals = re.split('_|\\^|{|}|\\$', main)\n",
    "    vals = []\n",
    "    for val in ovals:\n",
    "        if val != '':\n",
    "            vals.append(val)\n",
    "#     print(main, vals, ovals)\n",
    "    return eval(vals[0]), eval(vals[1]), eval(vals[2])"
   ]
  },
  {
   "cell_type": "code",
   "execution_count": 16,
   "id": "8705f842",
   "metadata": {},
   "outputs": [],
   "source": [
    "temp = Table.read('Lx/{}/TabB1.tex'.format(ref))"
   ]
  },
  {
   "cell_type": "code",
   "execution_count": 17,
   "id": "33614bc4-1bd9-4932-825b-a11c73563b1f",
   "metadata": {},
   "outputs": [],
   "source": [
    "temp.remove_row(0)"
   ]
  },
  {
   "cell_type": "code",
   "execution_count": 18,
   "id": "d3e686e0-d005-4038-8cfa-4279bda2ff27",
   "metadata": {},
   "outputs": [],
   "source": [
    "temp.rename_columns(['\\\\multicolumn{1}{c}{Cluster}',\n",
    "                     '\\\\multicolumn{1}{c}{$z$}',\n",
    "                     '\\\\multicolumn{1}{c}{$T_1$}',\n",
    "                     '\\\\multicolumn{1}{c}{$L\\\\, {[0.1-2.4]}_1$}',\n",
    "                     '\\\\multicolumn{1}{c}{$L\\\\, {[0.5-2]}_1$}',\n",
    "                     '\\\\multicolumn{1}{c}{$T_2$}',\n",
    "                     '\\\\multicolumn{1}{c}{$L\\\\, {[0.1-2.4]}_2$}',\n",
    "                     '\\\\multicolumn{1}{c}{$L\\\\, {[0.5-2]}_2$}'],\n",
    "                    ['Cluster', 'z', 'T1', 'L_01-24_1', 'L_05-2_1', 'T2', 'L_01-24_2',\n",
    "                     'L_05-2_2'])"
   ]
  },
  {
   "cell_type": "code",
   "execution_count": 21,
   "id": "0dda753c-6588-4894-a5ca-7e8f67f8cbbf",
   "metadata": {},
   "outputs": [],
   "source": [
    "keys = ['T1', 'L_01-24_1', 'L_05-2_1', 'T2', 'L_01-24_2', 'L_05-2_2']\n",
    "\n",
    "res = {'Cluster': temp['Cluster'].data, 'z': temp['z'].data.astype(float)}\n",
    "for key in keys:\n",
    "    res[key] = []\n",
    "    res[key + '_lerr'] = []\n",
    "    res[key + '_uerr'] = []\n",
    "\n",
    "for it in temp:\n",
    "    for key in keys:\n",
    "        tstr = it[key]\n",
    "        tmean, tlerr, tuerr = extract_errs(tstr)\n",
    "        res[key].append(tmean)\n",
    "        res[key + '_lerr'].append(tlerr)\n",
    "        res[key + '_uerr'].append(tuerr)\n",
    "        \n",
    "for key in ['T1', 'T2']:\n",
    "    for app in ['', '_lerr', '_uerr']:\n",
    "        res[key + app] = np.array(res[key + app]) * asu.keV\n",
    "for key in ['L_01-24_1', 'L_05-2_1', 'L_01-24_2', 'L_05-2_2']:\n",
    "    for app in ['', '_lerr', '_uerr']:\n",
    "        unit = (1e44 * asu.erg/asu.s).to('1e44 erg/s')\n",
    "        res[key + app] = np.array(res[key + app]) * unit\n",
    "#     res[key] = np.array(res[key])\n",
    "res = Table(res)"
   ]
  },
  {
   "cell_type": "code",
   "execution_count": 24,
   "id": "9a1d784b",
   "metadata": {},
   "outputs": [],
   "source": [
    "res.write('Lx/Data/{}.ecsv'.format(ref), overwrite=True)"
   ]
  },
  {
   "cell_type": "code",
   "execution_count": null,
   "id": "3cfb9f4a-84b8-4189-9124-393180135672",
   "metadata": {},
   "outputs": [],
   "source": []
  },
  {
   "cell_type": "code",
   "execution_count": 5,
   "id": "ee3cd585-74ac-4e2f-b1ab-9cd805d081d7",
   "metadata": {},
   "outputs": [],
   "source": [
    "ref = 'Eckmiller_2011'"
   ]
  },
  {
   "cell_type": "code",
   "execution_count": 6,
   "id": "cbae2e6b-e663-4546-9fce-414da6196e37",
   "metadata": {},
   "outputs": [],
   "source": [
    "temp1 = Table.read('Lx/{}/tab1.tex'.format(ref))\n",
    "\n",
    "temp2 = Table.read('Lx/{}/tab3-1.tex'.format(ref))\n",
    "\n",
    "temp3 = Table.read('Lx/{}/tab3-2.tex'.format(ref))\n",
    "\n",
    "temp4 = Table.read('Lx/{}/tab2.tex'.format(ref))\n",
    "\n",
    "temp1.remove_row(0)\n",
    "\n",
    "temp2.remove_row(0)\n",
    "\n",
    "temp3.remove_row(0)\n",
    "\n",
    "temp4.remove_row(0)\n",
    "\n",
    "temp4.rename_column('Name', 'Group Name')"
   ]
  },
  {
   "cell_type": "code",
   "execution_count": 7,
   "id": "2ed10723-20d2-44d3-a57c-a2cfce4828b0",
   "metadata": {},
   "outputs": [],
   "source": [
    "temp = join(temp2, temp3, keys=['Group Name'])"
   ]
  },
  {
   "cell_type": "code",
   "execution_count": 8,
   "id": "255372de-75e5-43f0-8c7a-c2825a7ef002",
   "metadata": {},
   "outputs": [],
   "source": [
    "temp = join(temp, temp4, keys=['Group Name'])"
   ]
  },
  {
   "cell_type": "code",
   "execution_count": 9,
   "id": "65256f3b-e496-4fb9-8807-6b5cbefb750b",
   "metadata": {},
   "outputs": [],
   "source": [
    "temp = join(temp1, temp, keys=['Group Name'])"
   ]
  },
  {
   "cell_type": "code",
   "execution_count": 10,
   "id": "525d82e1-a453-41cd-9b5e-5db9ff843141",
   "metadata": {},
   "outputs": [],
   "source": [
    "temp.rename_columns(['$z$', '$L_{\\\\text{x}}$', '$L_{\\\\text{x}}$ error', '$k_{\\\\text{B}}~T$',\n",
    "                     '$r_{2500}$', '$M_{2500}$', '$r_{500}$', '$M_{500}$', '$M_{\\\\text{g,2500}}$',\n",
    "                     '$M_{\\\\text{g,500}}$', '$f_{\\\\text{g,2500}}$', '$f_{\\\\text{g,500}}$', '$Z$'],\n",
    "                     ['z', 'Lx', 'Lxerr', 'T', 'R2500', 'M2500', 'R500', 'M500', 'Mg2500',\n",
    "                      'Mg500', 'fg2500', 'fg500', 'Z'])"
   ]
  },
  {
   "cell_type": "code",
   "execution_count": 11,
   "id": "7cbe305f-edf0-466b-9329-2906e48f747a",
   "metadata": {},
   "outputs": [],
   "source": [
    "good = temp['Group Name', 'z', 'Lx', 'Lxerr', 'T', 'R2500', 'M2500', 'R500',\n",
    "            'M500', 'Mg2500', 'Mg500', 'fg2500', 'fg500', 'Z', 'Core']"
   ]
  },
  {
   "cell_type": "code",
   "execution_count": 12,
   "id": "a229daef-009c-481d-ad56-dccd4d44105b",
   "metadata": {},
   "outputs": [],
   "source": [
    "keys = ['T', 'R2500', 'M2500', 'R500',\n",
    "            'M500', 'Mg2500', 'Mg500', 'fg2500', 'fg500', 'Z']"
   ]
  },
  {
   "cell_type": "code",
   "execution_count": 21,
   "id": "3d69d95c-3e71-4d75-80ed-a5ee5e1c6a31",
   "metadata": {},
   "outputs": [],
   "source": [
    "def rm_em(tlist):\n",
    "    res = []\n",
    "    for it in tlist:\n",
    "        if len(it) != 0:\n",
    "            res.append(it)\n",
    "    return res"
   ]
  },
  {
   "cell_type": "code",
   "execution_count": 22,
   "id": "956a14fa-cc24-4383-969b-dd4e5fb2f7c0",
   "metadata": {},
   "outputs": [],
   "source": [
    "res = {}\n",
    "\n",
    "for key in ['Group Name', 'z', 'Lx', 'Lxerr', 'Core']:\n",
    "    res[key] = good[key].data\n",
    "    \n",
    "for key in keys:\n",
    "    for app in ['', 'err']:\n",
    "        res[key + app] = []\n",
    "\n",
    "for key in keys:\n",
    "#     for app in ['', 'err']:\n",
    "    for i in range(len(good)):\n",
    "        tempstr = re.split('\\$|\\\\\\\\pm', good[key][i])\n",
    "        tempvals = rm_em(tempstr)\n",
    "        tmean, terr = eval(tempvals[0]), eval(tempvals[1])\n",
    "        res[key].append(tmean)\n",
    "        res[key + 'err'].append(terr)\n",
    "\n",
    "res = Table(res)\n",
    "\n",
    "for key in ['M']:\n",
    "    for app1 in ['500', '2500']:\n",
    "        for app2 in ['', 'err']:\n",
    "            unit = 1e13 * asu.Msun/asu.littleh\n",
    "            res[key + app1 + app2].unit = unit\n",
    "            \n",
    "for key in ['M']:\n",
    "    for app1 in ['g500', 'g2500']:\n",
    "        for app2 in ['', 'err']:\n",
    "            unit = 1e13 * asu.Msun/asu.littleh**(5/2)\n",
    "            res[key + app1 + app2].unit = unit\n",
    "\n",
    "for key in ['R']:\n",
    "    for app1 in ['500', '2500']:\n",
    "        for app2 in ['', 'err']:\n",
    "            unit = asu.Mpc/asu.littleh\n",
    "            res[key + app1 + app2].unit = unit     \n",
    "            \n",
    "for key in ['T']:\n",
    "    for app in ['', 'err']:\n",
    "        res[key + app].unit = asu.keV\n",
    "        \n",
    "for key in ['f']:\n",
    "    for app1 in ['g500', 'g2500']:\n",
    "        for app2 in ['', 'err']:\n",
    "            unit = asu.littleh**(-3/2)\n",
    "            res[key + app1 + app2].unit = unit\n",
    "\n",
    "res['Lx'].unit = 1e44 * asu.erg/asu.s/asu.littleh**2\n",
    "res['Lxerr'].unit = asu.percent\n",
    "for key in ['Z']:\n",
    "    for app in ['', 'err']:\n",
    "        res[key + app].unit = 'Zsun'"
   ]
  },
  {
   "cell_type": "code",
   "execution_count": 23,
   "id": "a87591a7-5cff-44db-9b5f-3da2676e326d",
   "metadata": {},
   "outputs": [],
   "source": [
    "res.write('Lx/Data/{}.ecsv'.format(ref), overwrite=True)"
   ]
  },
  {
   "cell_type": "code",
   "execution_count": null,
   "id": "aebeb4a0-80f2-48c6-8c28-907dd07c8100",
   "metadata": {},
   "outputs": [],
   "source": []
  },
  {
   "cell_type": "code",
   "execution_count": 215,
   "id": "78db8a42-21a8-4f84-a994-2eb571f04117",
   "metadata": {},
   "outputs": [],
   "source": [
    "ref = 'Leauthaud_2010' # Ignore this dataset for now since its relatively higher z"
   ]
  },
  {
   "cell_type": "code",
   "execution_count": 216,
   "id": "9162fe60-88f4-429a-a788-8ceb4f7420f3",
   "metadata": {},
   "outputs": [],
   "source": [
    "# temp = Table.read('{}/tab1.tex'.format(ref))"
   ]
  },
  {
   "cell_type": "code",
   "execution_count": 217,
   "id": "c0c60d2e-c943-4476-b4b2-6a5a41350cfe",
   "metadata": {},
   "outputs": [],
   "source": [
    "# temp.rename_columns(['$\\\\langle {L_{X}.E(z)^{-1}} \\\\rangle$', '$f_{\\\\rm CC}$\\\\tablenotemark{a}',\n",
    "#                      '$\\\\langle {M}_{200} \\\\rangle$', '$\\\\langle z \\\\rangle$'])"
   ]
  },
  {
   "cell_type": "code",
   "execution_count": null,
   "id": "e5c6d76d-a8cf-44f4-b16d-522d637f6c98",
   "metadata": {},
   "outputs": [],
   "source": []
  },
  {
   "cell_type": "code",
   "execution_count": 290,
   "id": "2da5cef7-f905-4227-9372-c4e550530122",
   "metadata": {},
   "outputs": [],
   "source": [
    "ref = 'Sun_2009'"
   ]
  },
  {
   "cell_type": "code",
   "execution_count": 33,
   "id": "88f5fd8f-82de-4ae9-884b-2a346528e13d",
   "metadata": {},
   "outputs": [],
   "source": [
    "def splitsun(tstr):\n",
    "    if 'pm' in tstr:\n",
    "        slist = re.findall(r\"[-+]?[.]?[\\d]+(?:,\\d\\d\\d)*[\\.]?\\d*(?:[eE][-+]?\\d+)?\", tstr)\n",
    "        if len(slist) != 2:\n",
    "            raise Exception(\"error\")\n",
    "        tmean, terr = eval(slist[0]), eval(slist[1])\n",
    "        tlerr, tuerr = -terr, terr\n",
    "    else:\n",
    "        slist = re.findall(r\"[-+]?[.]?[\\d]+(?:,\\d\\d\\d)*[\\.]?\\d*(?:[eE][-+]?\\d+)?\", tstr)\n",
    "        if len(slist) == 1:\n",
    "            tmean, tlerr, tuerr = eval(slist[0]), np.nan, np.nan\n",
    "        elif len(slist) != 3:\n",
    "            raise Exception(slist, \"error\")\n",
    "        else:\n",
    "            tmean, terr = eval(slist[0]), (eval(slist[1]), eval(slist[2]))\n",
    "            tlerr, tuerr = min(terr), max(terr)\n",
    "    if tlerr * tuerr > 0:\n",
    "        raise Exception(tlerr, tuerr, 'Wrong lower/upper error!')\n",
    "    return tmean, tlerr, tuerr"
   ]
  },
  {
   "cell_type": "code",
   "execution_count": 291,
   "id": "35b6ef85-da83-4c60-8a31-d9c411d6723b",
   "metadata": {},
   "outputs": [],
   "source": [
    "temp1 = Table.read('Lx/{}/tab3.tex'.format(ref))\n",
    "temp1.remove_row(0)"
   ]
  },
  {
   "cell_type": "code",
   "execution_count": 292,
   "id": "ca055a13-0e32-483a-91d2-1e6911b0cf11",
   "metadata": {},
   "outputs": [],
   "source": [
    "temp2 = Table.read('Lx/{}/tab4.tex'.format(ref))"
   ]
  },
  {
   "cell_type": "code",
   "execution_count": 293,
   "id": "182c7044-6b05-4f5f-bbcb-fcc5c94b1825",
   "metadata": {},
   "outputs": [],
   "source": [
    "temp = join(temp1, temp2, keys='Group')"
   ]
  },
  {
   "cell_type": "code",
   "execution_count": 295,
   "id": "481bd0a3-5e21-4ae8-a0ce-4186ec7a04b0",
   "metadata": {},
   "outputs": [],
   "source": [
    "temp.rename_columns(['$T_{500}$\\\\tablenotemark{a}', '$T_{2500}$', '$r_{500}$\\\\tablenotemark{a}',\n",
    "                     '$r_{2500}$', '$M_{500}$\\\\tablenotemark{a}',\n",
    "                     '$f_{\\\\rm gas, 500}$\\\\tablenotemark{a}', '$f_{\\\\rm gas, 2500}$',\n",
    "                     '$K_{500}$\\\\tablenotemark{a}', '$K_{2500}$'],\n",
    "                    ['T500', 'T2500', 'R500', 'R2500', 'M500', 'fg500', 'fg2500', 'K500',\n",
    "                     'K2500'])"
   ]
  },
  {
   "cell_type": "code",
   "execution_count": 296,
   "id": "3813aae3-60f1-436b-ba47-734bcd8e20dc",
   "metadata": {},
   "outputs": [],
   "source": [
    "good = temp['Group', 'T500', 'T2500', 'R500', 'R2500', 'M500', 'fg500', 'fg2500', 'K500',\n",
    "                     'K2500']"
   ]
  },
  {
   "cell_type": "code",
   "execution_count": 297,
   "id": "5f70c9f3-5625-46fa-8e30-f671911bc030",
   "metadata": {},
   "outputs": [],
   "source": [
    "keys = ['T500', 'T2500', 'R500', 'R2500', 'M500', 'fg500', 'fg2500', 'K500', 'K2500']\n",
    "\n",
    "res = {'Group': good['Group'].data}\n",
    "\n",
    "for key in keys:\n",
    "    for app in ['', '_lerr', '_uerr']:\n",
    "        res[key + app] = []\n",
    "        \n",
    "for i in range(len(good)):\n",
    "    for key in keys:\n",
    "        if str(good[key][i]) == '--':\n",
    "            tmean, tlerr, tuerr = np.nan, np.nan, np.nan\n",
    "        else:\n",
    "            tmean, tlerr, tuerr = splitsun(good[key][i])\n",
    "        res[key].append(tmean)\n",
    "        res[key + '_lerr'].append(tlerr)\n",
    "        res[key + '_uerr'].append(tuerr)\n",
    "res = Table(res)\n",
    "\n",
    "for key in ['T']:\n",
    "    for app1 in ['500', '2500']:\n",
    "        for app2 in ['', '_lerr', '_uerr']:\n",
    "            res[key + app1 + app2].unit = asu.keV\n",
    "for key in ['R']:\n",
    "    for app1 in ['500', '2500']:\n",
    "        for app2 in ['', '_lerr', '_uerr']:\n",
    "            res[key + app1 + app2].unit = asu.kpc\n",
    "for key in ['M']:\n",
    "    for app1 in ['500']:\n",
    "        for app2 in ['', '_lerr', '_uerr']:\n",
    "            res[key + app1 + app2].unit = 1e13 * asu.Msun\n",
    "for key in ['K']:\n",
    "    for app1 in ['500', '2500']:\n",
    "        for app2 in ['', '_lerr', '_uerr']:\n",
    "            res[key + app1 + app2].unit = asu.keV * asu.cm**2"
   ]
  },
  {
   "cell_type": "code",
   "execution_count": 298,
   "id": "669b801d-8f7a-4be1-82ba-377d3928de7d",
   "metadata": {},
   "outputs": [],
   "source": [
    "res.write('Lx/Data/{}.ecsv'.format(ref))"
   ]
  },
  {
   "cell_type": "code",
   "execution_count": null,
   "id": "0d321610-1035-4210-8f34-9b1983ebfe65",
   "metadata": {},
   "outputs": [],
   "source": []
  },
  {
   "cell_type": "code",
   "execution_count": 58,
   "id": "7830763a-2e89-4f5e-a601-a7585f6529b1",
   "metadata": {},
   "outputs": [],
   "source": [
    "ref = 'Chiu_2018'"
   ]
  },
  {
   "cell_type": "code",
   "execution_count": 59,
   "id": "5f17192e-c0f0-4b25-a43f-302b53d57d39",
   "metadata": {},
   "outputs": [],
   "source": [
    "def splitchiu(tstr):\n",
    "    if 'pm' in tstr:\n",
    "        slist = re.findall(r\"[-+]?[.]?[\\d]+(?:,\\d\\d\\d)*[\\.]?\\d*(?:[eE][-+]?\\d+)?\", tstr)\n",
    "        if len(slist) != 2:\n",
    "            raise Exception(\"error\")\n",
    "        tmean, terr = eval(slist[0]), eval(slist[1])\n",
    "    else:\n",
    "        slist = re.findall(r\"[-+]?[.]?[\\d]+(?:,\\d\\d\\d)*[\\.]?\\d*(?:[eE][-+]?\\d+)?\", tstr)\n",
    "        if len(slist) == 1:\n",
    "            tmean, terr = eval(slist[0]), np.nan\n",
    "        elif len(slist) == 0:\n",
    "            tmean, terr = np.nan, np.nan\n",
    "        else:\n",
    "            raise Exception(slist, 'error')\n",
    "    return tmean, terr"
   ]
  },
  {
   "cell_type": "code",
   "execution_count": 60,
   "id": "0364d4c2-0deb-4f49-8947-62bc1984d237",
   "metadata": {},
   "outputs": [],
   "source": [
    "temp1 = Table.read('Mass/Chiu_2018/tab1.tex')"
   ]
  },
  {
   "cell_type": "code",
   "execution_count": 61,
   "id": "c11753ed-ae79-461a-9831-e743232ee3d1",
   "metadata": {},
   "outputs": [],
   "source": [
    "temp2 = Table.read('Mass/Chiu_2018/tab2.tex')\n",
    "temp2.rename_columns(['col0', '_1'], ['Name', 'fc'])\n",
    "temp2.remove_row(0)"
   ]
  },
  {
   "cell_type": "code",
   "execution_count": 62,
   "id": "a2cecfef-8fd1-4819-9281-91c9f3d4885d",
   "metadata": {},
   "outputs": [],
   "source": [
    "temp = join(temp1, temp2, keys='Name')"
   ]
  },
  {
   "cell_type": "code",
   "execution_count": 63,
   "id": "d2b577ad-a133-41bf-83b0-ffef68256dda",
   "metadata": {},
   "outputs": [
    {
     "data": {
      "text/plain": [
       "(91, 91, 91)"
      ]
     },
     "execution_count": 63,
     "metadata": {},
     "output_type": "execute_result"
    }
   ],
   "source": [
    "len(temp), len(temp1), len(temp2)"
   ]
  },
  {
   "cell_type": "code",
   "execution_count": 64,
   "id": "5b0f9467-35dd-44b9-8174-d00cc060ae55",
   "metadata": {},
   "outputs": [],
   "source": [
    "temp.rename_columns(['\\\\redshift\\\\', '\\\\Rfiveoo', '$\\\\Mfiveoo$', '$\\\\Mgas$', '$\\\\Mstar$', '$\\\\Mbary$'],\n",
    "                    ['z', 'R500', 'M500', 'Mgas', 'Mstar', 'Mbar'])"
   ]
  },
  {
   "cell_type": "code",
   "execution_count": 65,
   "id": "0e912602-a75a-41f0-be60-7b9bc480ab3d",
   "metadata": {},
   "outputs": [],
   "source": [
    "good = temp['Name', 'z', 'R500', 'M500', 'Mgas', 'Mstar', 'Mbar', 'fc']"
   ]
  },
  {
   "cell_type": "code",
   "execution_count": 66,
   "id": "07479c7c-87e7-468d-9071-e9e440e1e16e",
   "metadata": {},
   "outputs": [],
   "source": [
    "keys = ['z', 'R500', 'M500', 'Mgas', 'Mstar', 'Mbar', 'fc']\n",
    "\n",
    "res = {'Name': good['Name'].data}\n",
    "for key in keys:\n",
    "    for app in ['', 'err']:\n",
    "        res[key + app] = []\n",
    "        \n",
    "for i in range(len(good)):\n",
    "    for key in keys:\n",
    "#         print(good[i][key])\n",
    "        tstr = good[key][i]\n",
    "        tmean, terr = splitchiu(tstr)\n",
    "        res[key].append(tmean)\n",
    "        res[key + 'err'].append(terr)\n",
    "res = Table(res)\n",
    "\n",
    "res.remove_columns(['zerr', 'R500err'])\n",
    "\n",
    "for key in ['M500']:\n",
    "    for app in ['', 'err']:\n",
    "        res[key + app].unit = 1e14 * asu.Msun\n",
    "        \n",
    "for key in ['Mgas', 'Mbar']:\n",
    "    for app in ['', 'err']:\n",
    "        res[key + app].unit = 1e13 * asu.Msun\n",
    "        \n",
    "for key in ['Mstar']:\n",
    "    for app in ['', 'err']:\n",
    "        res[key + app].unit = 1e12 * asu.Msun\n",
    "        \n",
    "res['R500'].unit = asu.arcmin"
   ]
  },
  {
   "cell_type": "code",
   "execution_count": 67,
   "id": "f66f4877-d1f5-4db1-9704-a0bba39738c9",
   "metadata": {},
   "outputs": [],
   "source": [
    "res.write('Mass/Data/{}.ecsv'.format(ref))"
   ]
  },
  {
   "cell_type": "code",
   "execution_count": null,
   "id": "d03bcf9b-f16b-49be-9d0b-05579c3809b3",
   "metadata": {},
   "outputs": [],
   "source": []
  },
  {
   "cell_type": "code",
   "execution_count": 68,
   "id": "0e710e69-d42b-4baf-95f9-e5cf3dae0fdd",
   "metadata": {},
   "outputs": [],
   "source": [
    "ref = 'Gonzalez_2013'"
   ]
  },
  {
   "cell_type": "code",
   "execution_count": 98,
   "id": "ebdee7f1-c181-4094-b615-cd739acaeede",
   "metadata": {},
   "outputs": [],
   "source": [
    "def splitgon(tstr):\n",
    "    if 'pm' in tstr:\n",
    "        slist = re.findall(r\"[-+]?[.]?[\\d]+(?:,\\d\\d\\d)*[\\.]?\\d*(?:[eE][-+]?\\d+)?\", tstr)\n",
    "        if len(slist) != 2:\n",
    "            raise Exception(\"error\")\n",
    "        tmean, terr = eval(slist[0]), eval(slist[1])\n",
    "    else:\n",
    "        slist = re.findall(r\"[-+]?[.]?[\\d]+(?:,\\d\\d\\d)*[\\.]?\\d*(?:[eE][-+]?\\d+)?\", tstr)\n",
    "        if len(slist) == 1:\n",
    "            tmean, terr = eval(slist[0]), np.nan\n",
    "        elif len(slist) == 0:\n",
    "            tmean, terr = np.nan, np.nan\n",
    "        else:\n",
    "            raise Exception(slist, 'error')\n",
    "    return tmean, terr"
   ]
  },
  {
   "cell_type": "code",
   "execution_count": 113,
   "id": "0e492f9b-94d3-4ffd-97f9-22f0c5e68b8a",
   "metadata": {},
   "outputs": [],
   "source": [
    "temp1 = Table.read('Mass/Gonzalez_2013/tab2.tex')\n",
    "temp1.rename_column('\\\\colhead{Cluster}', 'Cluster')\n",
    "temp1.remove_row(0)\n",
    "\n",
    "temp2 = Table.read('Mass/Gonzalez_2013/tab3.tex')\n",
    "temp2.rename_column('\\\\colhead{Cluster}', 'Cluster')\n",
    "temp2.remove_row(0)"
   ]
  },
  {
   "cell_type": "code",
   "execution_count": 114,
   "id": "0aba61b9-8d08-43e0-9cbf-34bcecd73637",
   "metadata": {},
   "outputs": [],
   "source": [
    "temp = join(temp1, temp2, keys='Cluster')"
   ]
  },
  {
   "cell_type": "code",
   "execution_count": 115,
   "id": "f9279691-f003-458b-bd7e-4d755fea62e1",
   "metadata": {},
   "outputs": [],
   "source": [
    "temp.rename_columns(['\\\\colhead{$z$}', '$T_{X,2}$', '\\\\colhead {\\\\rfive}', '\\\\colhead {\\\\mfive}',\n",
    "                     '\\\\colhead {$M_{gas,500}$}', '\\\\colhead {$M_{\\\\star,2D,500}$}',\n",
    "                     '\\\\colhead{$M_{\\\\star,3D,500}$}', '\\\\colhead{$f_{gas}$}',\n",
    "                     '\\\\colhead{$f_{stellar}$}', '\\\\colhead{$f_{baryons}$}'],\n",
    "                    ['z', 'Tx2', 'R500', 'M500', 'Mgas500', 'Mstar2d500', 'Mstar3d500', 'fgas',\n",
    "                     'fstar', 'fbar'])"
   ]
  },
  {
   "cell_type": "code",
   "execution_count": 116,
   "id": "74157f8e-707c-4d24-b5c8-b44ab69665be",
   "metadata": {},
   "outputs": [],
   "source": [
    "good = temp['Cluster', 'z', 'Tx2', 'R500', 'M500', 'Mgas500', 'Mstar2d500',\n",
    "            'Mstar3d500', 'fgas', 'fstar', 'fbar']"
   ]
  },
  {
   "cell_type": "code",
   "execution_count": 119,
   "id": "3599defa-0fac-4a84-b6c9-a0a19cf0d39a",
   "metadata": {},
   "outputs": [],
   "source": [
    "keys = ['Tx2', 'R500', 'M500', 'Mgas500', 'Mstar2d500',\n",
    "        'Mstar3d500', 'fgas', 'fstar', 'fbar']\n",
    "\n",
    "res = {'Cluster': good['Cluster'].data,\n",
    "       'z': good['z'].data.astype(float)}\n",
    "for key in keys:\n",
    "    for app in ['', 'err']:\n",
    "        res[key + app] = []\n",
    "        \n",
    "for i in range(len(good)):\n",
    "    for key in keys:\n",
    "        tstr = good[key][i]\n",
    "        tmean, terr = splitgon(tstr)\n",
    "        res[key].append(tmean)\n",
    "        res[key + app].append(terr)\n",
    "res = Table(res)\n",
    "\n",
    "for key in ['M500']:\n",
    "    for app in ['', 'err']:\n",
    "        res[key + app].unit = 1e14 * asu.Msun\n",
    "\n",
    "for key in ['Mgas500', 'Mstar2d500', 'Mstar3d500']:\n",
    "    for app in ['', 'err']:\n",
    "        res[key + app].unit = 1e13 * asu.Msun\n",
    "\n",
    "for key in ['R500']:\n",
    "    for app in ['', 'err']:\n",
    "        res[key + app].unit = asu.Mpc\n"
   ]
  },
  {
   "cell_type": "code",
   "execution_count": 121,
   "id": "ad9d6f64-1583-47ca-8b4b-a2d697a51e74",
   "metadata": {},
   "outputs": [],
   "source": [
    "res.write('Mass/Data/{}.ecsv'.format(ref))"
   ]
  },
  {
   "cell_type": "code",
   "execution_count": null,
   "id": "f5765a20-4eed-43e3-a0df-abcb4ca1d3e0",
   "metadata": {},
   "outputs": [],
   "source": []
  },
  {
   "cell_type": "code",
   "execution_count": 122,
   "id": "d99e6e7a-2f20-4e20-bd5a-7c8b935d7036",
   "metadata": {},
   "outputs": [],
   "source": [
    "ref = 'Lagana_2013'"
   ]
  },
  {
   "cell_type": "code",
   "execution_count": 155,
   "id": "0920595a-d85e-4666-b40e-f35ddc63dc24",
   "metadata": {},
   "outputs": [],
   "source": [
    "def splitlagana(tstr):\n",
    "    if 'pm' in tstr:\n",
    "        slist = re.findall(r\"[-+]?[.]?[\\d]+(?:,\\d\\d\\d)*[\\.]?\\d*(?:[eE][-+]?\\d+)?\", tstr)\n",
    "        if len(slist) != 2:\n",
    "            raise Exception(\"error\")\n",
    "        tmean, terr = eval(slist[0]), eval(slist[1])\n",
    "    else:\n",
    "        slist = re.findall(r\"[-+]?[.]?[\\d]+(?:,\\d\\d\\d)*[\\.]?\\d*(?:[eE][-+]?\\d+)?\", tstr)\n",
    "        if len(slist) == 1:\n",
    "            tmean, terr = eval(slist[0]), np.nan\n",
    "        elif len(slist) == 0:\n",
    "            tmean, terr = np.nan, np.nan\n",
    "        else:\n",
    "            raise Exception(slist, 'error')\n",
    "    return tmean, terr"
   ]
  },
  {
   "cell_type": "code",
   "execution_count": 181,
   "id": "407d98af-2463-4811-987c-f73645977b16",
   "metadata": {},
   "outputs": [],
   "source": [
    "temp1 = Table.read('Mass/Lagana_2013/tab1_group.tex')\n",
    "temp2 = Table.read('Mass/Lagana_2013/tab1_cluster.tex')"
   ]
  },
  {
   "cell_type": "code",
   "execution_count": 182,
   "id": "3290053a-450a-4640-afc0-ade781884fca",
   "metadata": {},
   "outputs": [],
   "source": [
    "temp1.rename_columns(['$r_{2500}$', '$r_{500}$', '$ <kT> $', '$M_{\\\\rm gas,2500} $',\n",
    "                       '$M_{\\\\rm gas,500} $', '$M_{\\\\rm tot,2500} $', '$M_{\\\\rm tot,500} $',\n",
    "                       '$M_{\\\\rm star,2500} $', '$M_{\\\\rm star,500} $'],\n",
    "                      ['R2500', 'R500', 'T', 'Mgas2500', 'Mgas500', 'Mtot2500', 'Mtot500',\n",
    "                       'Mstar2500', 'Mstar500'])\n",
    "\n",
    "temp2.rename_columns(['$r_{2500}$', '$r_{500}$', '$ <kT> $', '$M_{\\\\rm gas,2500} $',\n",
    "                       '$M_{\\\\rm gas,500} $', '$M_{\\\\rm tot,2500} $', '$M_{\\\\rm tot,500} $',\n",
    "                       '$M_{\\\\rm star,2500} $', '$M_{\\\\rm star,500} $'],\n",
    "                      ['R2500', 'R500', 'T', 'Mgas2500', 'Mgas500', 'Mtot2500', 'Mtot500',\n",
    "                       'Mstar2500', 'Mstar500'])"
   ]
  },
  {
   "cell_type": "code",
   "execution_count": 183,
   "id": "e1939b48-a830-41b6-877b-0b831538393e",
   "metadata": {},
   "outputs": [],
   "source": [
    "good1 = temp1['Name', 'z', 'R2500', 'R500', 'T', 'Mgas2500', 'Mgas500', 'Mtot2500', 'Mtot500',\n",
    "                       'Mstar2500', 'Mstar500'][1:].copy()\n",
    "\n",
    "good2 = temp2['Name', 'z', 'R2500', 'R500', 'T', 'Mgas2500', 'Mgas500', 'Mtot2500', 'Mtot500',\n",
    "                       'Mstar2500', 'Mstar500'][1:].copy()"
   ]
  },
  {
   "cell_type": "code",
   "execution_count": 184,
   "id": "436c8452-da1b-46c9-a038-f17c95705588",
   "metadata": {},
   "outputs": [],
   "source": [
    "cats = [good1, good2]\n",
    "res = [{'Name': cat['Name'].data} for cat in cats]\n",
    "\n",
    "for i in range(2):\n",
    "    for key in ['z', 'R2500', 'R500']:\n",
    "        res[i][key] = cats[i][key].data.astype(float)\n",
    "    for key in ['T', 'Mgas2500', 'Mgas500', 'Mtot2500', 'Mtot500', 'Mstar2500', 'Mstar500']:\n",
    "        for app in ['', 'err']:\n",
    "            res[i][key + app] = []\n",
    "\n",
    "for i in range(2):\n",
    "    for k in range(len(cats[i])):\n",
    "        for key in ['T', 'Mgas2500', 'Mgas500', 'Mtot2500', 'Mtot500', 'Mstar2500', 'Mstar500']:\n",
    "            tstr = cats[i][key][k]\n",
    "            tmean, terr = splitlagana(tstr)\n",
    "            res[i][key].append(tmean)\n",
    "            res[i][key + 'err'].append(terr)\n",
    "    res[i] = Table(res[i])\n",
    "\n",
    "for i in range(2):\n",
    "    for app in ['', 'err']:\n",
    "        res[i]['T' + app].unit = asu.keV\n",
    "    for key in ['R2500', 'R500']:\n",
    "        for app in ['']:\n",
    "            res[i][key + app].unit = asu.kpc/asu.littleh\n",
    "    for key in ['Mgas2500', 'Mgas500', 'Mstar2500', 'Mstar500']:\n",
    "        for app in ['', 'err']:\n",
    "            res[i][key + app].unit = 10**(12+i) * asu.Msun\n",
    "    for key in ['Mtot2500', 'Mtot500']:\n",
    "        for app in ['', 'err']:\n",
    "            res[i][key + app].unit = 10**(13+i) * asu.Msun"
   ]
  },
  {
   "cell_type": "code",
   "execution_count": 185,
   "id": "daa0fbb0-b788-4dd5-890e-0998e92ffe55",
   "metadata": {},
   "outputs": [],
   "source": [
    "res[0].write('Mass/Data/{}_group.ecsv'.format(ref))\n",
    "res[1].write('Mass/Data/{}_cluster.ecsv'.format(ref))"
   ]
  },
  {
   "cell_type": "code",
   "execution_count": null,
   "id": "dea38fe2-f84e-4230-a164-202c740c7612",
   "metadata": {},
   "outputs": [],
   "source": []
  },
  {
   "cell_type": "code",
   "execution_count": 3,
   "id": "260559f2-8590-41b2-8e7d-fa8ee777bd3b",
   "metadata": {},
   "outputs": [],
   "source": [
    "ref = 'Lovisari_2015'"
   ]
  },
  {
   "cell_type": "code",
   "execution_count": 25,
   "id": "a120b79e-cace-432b-911c-60cb9bc1cae9",
   "metadata": {},
   "outputs": [],
   "source": [
    "def splitstr(tstr):\n",
    "    if 'pm' in tstr:\n",
    "        slist = re.findall(r\"[-+]?[.]?[\\d]+(?:,\\d\\d\\d)*[\\.]?\\d*(?:[eE][-+]?\\d+)?\", tstr)\n",
    "        if len(slist) != 2:\n",
    "            raise Exception(\"error\")\n",
    "        tmean, terr = eval(slist[0]), eval(slist[1])\n",
    "    else:\n",
    "        slist = re.findall(r\"[-+]?[.]?[\\d]+(?:,\\d\\d\\d)*[\\.]?\\d*(?:[eE][-+]?\\d+)?\", tstr)\n",
    "        if len(slist) == 1:\n",
    "            tmean, terr = eval(slist[0]), np.nan\n",
    "        elif len(slist) == 0:\n",
    "            tmean, terr = np.nan, np.nan\n",
    "        else:\n",
    "            raise Exception(slist, 'error')\n",
    "    return tmean, terr"
   ]
  },
  {
   "cell_type": "code",
   "execution_count": 7,
   "id": "19aaa331-0d45-475f-9fc0-eaeba6c69d40",
   "metadata": {},
   "outputs": [],
   "source": [
    "temp = Table.read('Lx/{}/tab2.tex'.format(ref))"
   ]
  },
  {
   "cell_type": "code",
   "execution_count": 9,
   "id": "5a62fb4f-7b2c-43c9-8db1-040464c37e9a",
   "metadata": {},
   "outputs": [],
   "source": [
    "temp.remove_row(0)"
   ]
  },
  {
   "cell_type": "code",
   "execution_count": 12,
   "id": "57269e91-7412-412a-ad0c-b810b8bf1867",
   "metadata": {},
   "outputs": [],
   "source": [
    "temp.rename_columns(['\\\\rm Group \\\\ name',\n",
    " 'kT',\n",
    " 'R_{spec}',\n",
    " 'R_{500}',\n",
    " 'M_{500}',\n",
    " 'M_{gas,500}',\n",
    " 'R_{2500}',\n",
    " 'M_{2500}',\n",
    " 'M_{gas,2500}',\n",
    " 't_{cool}',\n",
    " 'L_{X,xmm}'], \n",
    " ['Name',\n",
    " 'T',\n",
    " 'Rspec',\n",
    " 'R500',\n",
    " 'M500',\n",
    " 'Mgas500',\n",
    " 'R2500',\n",
    " 'M2500',\n",
    " 'Mgas2500',\n",
    " 'tcool',\n",
    " 'Lx'])"
   ]
  },
  {
   "cell_type": "code",
   "execution_count": 17,
   "id": "850bae1c-7f47-4566-92a6-390695995bbb",
   "metadata": {},
   "outputs": [],
   "source": [
    "for i in range(len(temp)):\n",
    "    temp['Name'][i] = temp['Name'][i][4:]"
   ]
  },
  {
   "cell_type": "code",
   "execution_count": 22,
   "id": "224fef5c-a65e-46d9-99e4-c4b411f088c3",
   "metadata": {},
   "outputs": [],
   "source": [
    "good = temp[(temp['Name'] != 'WBL154^{*}') & (temp['Name'] != 'A3390^{*}')]"
   ]
  },
  {
   "cell_type": "code",
   "execution_count": 29,
   "id": "119acd1c-8db0-4d71-89f1-10918bacc08f",
   "metadata": {},
   "outputs": [],
   "source": [
    "keys = ['T', 'R500', 'M500', 'Mgas500', 'R2500', 'M2500', 'Mgas2500', 'tcool', 'Lx']\n",
    "\n",
    "res = {'Name': good['Name'].data}\n",
    "for key in keys:\n",
    "    for app in ['', 'err']:\n",
    "        res[key + app] = []\n",
    "\n",
    "for i in range(len(good)):\n",
    "    for key in keys:\n",
    "        tstr = good[key][i]\n",
    "        tmean, terr = splitstr(tstr)\n",
    "        res[key].append(tmean)\n",
    "        res[key + 'err'].append(terr)\n",
    "res = Table(res)\n",
    "\n",
    "\n",
    "for key in ['M500', 'M2500']:\n",
    "    for app in ['', 'err']:\n",
    "        res[key + app].unit = 1e13 * asu.Msun/asu.littleh\n",
    "\n",
    "for key in ['Mgas500', 'Mgas2500']:\n",
    "    for app in ['', 'err']:\n",
    "        res[key + app].unit = 1e12 * asu.Msun/asu.littleh**(5/2)\n",
    "\n",
    "for key in ['R500', 'R2500']:\n",
    "    for app in ['', 'err']:\n",
    "        res[key + app].unit = asu.kpc/asu.littleh\n",
    "\n",
    "for key in ['T']:\n",
    "    for app in ['', 'err']:\n",
    "        res[key + app].unit = asu.keV\n",
    "\n",
    "for key in ['Lx']:\n",
    "    for app in ['', 'err']:\n",
    "        res[key + app].unit = 1e43 * asu.erg/asu.s\n",
    "\n",
    "for key in ['tcool']:\n",
    "    for app in ['', 'err']:\n",
    "        res[key + app].unit = asu.Gyr"
   ]
  },
  {
   "cell_type": "code",
   "execution_count": 31,
   "id": "8501883a-b923-45ad-bdce-1afeb134e563",
   "metadata": {},
   "outputs": [],
   "source": [
    "res.write('Lx/Data/{}.ecsv'.format(ref))"
   ]
  },
  {
   "cell_type": "code",
   "execution_count": null,
   "id": "19facd24-ff1e-41a2-b310-52b3d7f846d4",
   "metadata": {},
   "outputs": [],
   "source": []
  }
 ],
 "metadata": {
  "kernelspec": {
   "display_name": "Python [conda env:cosmo]",
   "language": "python",
   "name": "conda-env-cosmo-py"
  },
  "language_info": {
   "codemirror_mode": {
    "name": "ipython",
    "version": 3
   },
   "file_extension": ".py",
   "mimetype": "text/x-python",
   "name": "python",
   "nbconvert_exporter": "python",
   "pygments_lexer": "ipython3",
   "version": "3.8.10"
  }
 },
 "nbformat": 4,
 "nbformat_minor": 5
}
